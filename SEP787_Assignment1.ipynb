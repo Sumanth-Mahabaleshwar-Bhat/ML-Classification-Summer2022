{
  "nbformat": 4,
  "nbformat_minor": 0,
  "metadata": {
    "colab": {
      "provenance": [],
      "include_colab_link": true
    },
    "kernelspec": {
      "name": "python3",
      "display_name": "Python 3"
    },
    "language_info": {
      "name": "python"
    }
  },
  "cells": [
    {
      "cell_type": "markdown",
      "metadata": {
        "id": "view-in-github",
        "colab_type": "text"
      },
      "source": [
        "<a href=\"https://colab.research.google.com/github/Sumanth-Mahabaleshwar-Bhat/ML-Classification-Summer2022/blob/main/SEP787_Assignment1.ipynb\" target=\"_parent\"><img src=\"https://colab.research.google.com/assets/colab-badge.svg\" alt=\"Open In Colab\"/></a>"
      ]
    },
    {
      "cell_type": "code",
      "source": [
        "import numpy as np\n",
        "import random\n",
        "import math\n",
        "import matplotlib.pyplot\n",
        "import pandas as pd\n",
        "from sklearn.preprocessing import StandardScaler\n",
        "from google.colab import files\n",
        "filesUploaded = files.upload()\n",
        "import io"
      ],
      "metadata": {
        "colab": {
          "base_uri": "https://localhost:8080/",
          "height": 73
        },
        "id": "6PtCRwxjtWIm",
        "outputId": "4fcf44f3-d0b5-41ac-b00d-fc53dfac9402"
      },
      "execution_count": null,
      "outputs": [
        {
          "output_type": "display_data",
          "data": {
            "text/plain": [
              "<IPython.core.display.HTML object>"
            ],
            "text/html": [
              "\n",
              "     <input type=\"file\" id=\"files-fb03ab62-da50-4379-b8a1-0ed3b8ff4a88\" name=\"files[]\" multiple disabled\n",
              "        style=\"border:none\" />\n",
              "     <output id=\"result-fb03ab62-da50-4379-b8a1-0ed3b8ff4a88\">\n",
              "      Upload widget is only available when the cell has been executed in the\n",
              "      current browser session. Please rerun this cell to enable.\n",
              "      </output>\n",
              "      <script>// Copyright 2017 Google LLC\n",
              "//\n",
              "// Licensed under the Apache License, Version 2.0 (the \"License\");\n",
              "// you may not use this file except in compliance with the License.\n",
              "// You may obtain a copy of the License at\n",
              "//\n",
              "//      http://www.apache.org/licenses/LICENSE-2.0\n",
              "//\n",
              "// Unless required by applicable law or agreed to in writing, software\n",
              "// distributed under the License is distributed on an \"AS IS\" BASIS,\n",
              "// WITHOUT WARRANTIES OR CONDITIONS OF ANY KIND, either express or implied.\n",
              "// See the License for the specific language governing permissions and\n",
              "// limitations under the License.\n",
              "\n",
              "/**\n",
              " * @fileoverview Helpers for google.colab Python module.\n",
              " */\n",
              "(function(scope) {\n",
              "function span(text, styleAttributes = {}) {\n",
              "  const element = document.createElement('span');\n",
              "  element.textContent = text;\n",
              "  for (const key of Object.keys(styleAttributes)) {\n",
              "    element.style[key] = styleAttributes[key];\n",
              "  }\n",
              "  return element;\n",
              "}\n",
              "\n",
              "// Max number of bytes which will be uploaded at a time.\n",
              "const MAX_PAYLOAD_SIZE = 100 * 1024;\n",
              "\n",
              "function _uploadFiles(inputId, outputId) {\n",
              "  const steps = uploadFilesStep(inputId, outputId);\n",
              "  const outputElement = document.getElementById(outputId);\n",
              "  // Cache steps on the outputElement to make it available for the next call\n",
              "  // to uploadFilesContinue from Python.\n",
              "  outputElement.steps = steps;\n",
              "\n",
              "  return _uploadFilesContinue(outputId);\n",
              "}\n",
              "\n",
              "// This is roughly an async generator (not supported in the browser yet),\n",
              "// where there are multiple asynchronous steps and the Python side is going\n",
              "// to poll for completion of each step.\n",
              "// This uses a Promise to block the python side on completion of each step,\n",
              "// then passes the result of the previous step as the input to the next step.\n",
              "function _uploadFilesContinue(outputId) {\n",
              "  const outputElement = document.getElementById(outputId);\n",
              "  const steps = outputElement.steps;\n",
              "\n",
              "  const next = steps.next(outputElement.lastPromiseValue);\n",
              "  return Promise.resolve(next.value.promise).then((value) => {\n",
              "    // Cache the last promise value to make it available to the next\n",
              "    // step of the generator.\n",
              "    outputElement.lastPromiseValue = value;\n",
              "    return next.value.response;\n",
              "  });\n",
              "}\n",
              "\n",
              "/**\n",
              " * Generator function which is called between each async step of the upload\n",
              " * process.\n",
              " * @param {string} inputId Element ID of the input file picker element.\n",
              " * @param {string} outputId Element ID of the output display.\n",
              " * @return {!Iterable<!Object>} Iterable of next steps.\n",
              " */\n",
              "function* uploadFilesStep(inputId, outputId) {\n",
              "  const inputElement = document.getElementById(inputId);\n",
              "  inputElement.disabled = false;\n",
              "\n",
              "  const outputElement = document.getElementById(outputId);\n",
              "  outputElement.innerHTML = '';\n",
              "\n",
              "  const pickedPromise = new Promise((resolve) => {\n",
              "    inputElement.addEventListener('change', (e) => {\n",
              "      resolve(e.target.files);\n",
              "    });\n",
              "  });\n",
              "\n",
              "  const cancel = document.createElement('button');\n",
              "  inputElement.parentElement.appendChild(cancel);\n",
              "  cancel.textContent = 'Cancel upload';\n",
              "  const cancelPromise = new Promise((resolve) => {\n",
              "    cancel.onclick = () => {\n",
              "      resolve(null);\n",
              "    };\n",
              "  });\n",
              "\n",
              "  // Wait for the user to pick the files.\n",
              "  const files = yield {\n",
              "    promise: Promise.race([pickedPromise, cancelPromise]),\n",
              "    response: {\n",
              "      action: 'starting',\n",
              "    }\n",
              "  };\n",
              "\n",
              "  cancel.remove();\n",
              "\n",
              "  // Disable the input element since further picks are not allowed.\n",
              "  inputElement.disabled = true;\n",
              "\n",
              "  if (!files) {\n",
              "    return {\n",
              "      response: {\n",
              "        action: 'complete',\n",
              "      }\n",
              "    };\n",
              "  }\n",
              "\n",
              "  for (const file of files) {\n",
              "    const li = document.createElement('li');\n",
              "    li.append(span(file.name, {fontWeight: 'bold'}));\n",
              "    li.append(span(\n",
              "        `(${file.type || 'n/a'}) - ${file.size} bytes, ` +\n",
              "        `last modified: ${\n",
              "            file.lastModifiedDate ? file.lastModifiedDate.toLocaleDateString() :\n",
              "                                    'n/a'} - `));\n",
              "    const percent = span('0% done');\n",
              "    li.appendChild(percent);\n",
              "\n",
              "    outputElement.appendChild(li);\n",
              "\n",
              "    const fileDataPromise = new Promise((resolve) => {\n",
              "      const reader = new FileReader();\n",
              "      reader.onload = (e) => {\n",
              "        resolve(e.target.result);\n",
              "      };\n",
              "      reader.readAsArrayBuffer(file);\n",
              "    });\n",
              "    // Wait for the data to be ready.\n",
              "    let fileData = yield {\n",
              "      promise: fileDataPromise,\n",
              "      response: {\n",
              "        action: 'continue',\n",
              "      }\n",
              "    };\n",
              "\n",
              "    // Use a chunked sending to avoid message size limits. See b/62115660.\n",
              "    let position = 0;\n",
              "    do {\n",
              "      const length = Math.min(fileData.byteLength - position, MAX_PAYLOAD_SIZE);\n",
              "      const chunk = new Uint8Array(fileData, position, length);\n",
              "      position += length;\n",
              "\n",
              "      const base64 = btoa(String.fromCharCode.apply(null, chunk));\n",
              "      yield {\n",
              "        response: {\n",
              "          action: 'append',\n",
              "          file: file.name,\n",
              "          data: base64,\n",
              "        },\n",
              "      };\n",
              "\n",
              "      let percentDone = fileData.byteLength === 0 ?\n",
              "          100 :\n",
              "          Math.round((position / fileData.byteLength) * 100);\n",
              "      percent.textContent = `${percentDone}% done`;\n",
              "\n",
              "    } while (position < fileData.byteLength);\n",
              "  }\n",
              "\n",
              "  // All done.\n",
              "  yield {\n",
              "    response: {\n",
              "      action: 'complete',\n",
              "    }\n",
              "  };\n",
              "}\n",
              "\n",
              "scope.google = scope.google || {};\n",
              "scope.google.colab = scope.google.colab || {};\n",
              "scope.google.colab._files = {\n",
              "  _uploadFiles,\n",
              "  _uploadFilesContinue,\n",
              "};\n",
              "})(self);\n",
              "</script> "
            ]
          },
          "metadata": {}
        }
      ]
    },
    {
      "cell_type": "markdown",
      "source": [
        "Question 1 Solution"
      ],
      "metadata": {
        "id": "z5QhGCWfCbdj"
      }
    },
    {
      "cell_type": "code",
      "source": [
        "df = pd.read_csv(io.BytesIO(filesUploaded['question1.csv']))\n",
        "\n",
        "# Converting Private/Public column values into numerical value\n",
        "df['UniversityType'] = df['Private/Public'].map(({'private':1,'public':0}))\n",
        "\n",
        "# Dropping the private/public column\n",
        "df.drop('Private/Public',axis=1,inplace=True)\n",
        "\n",
        "# Obtaining unique values from the University State column\n",
        "universityState = df['University State'].unique()\n",
        "for i in universityState:\n",
        "    df[i]=np.where(df['University State']==i, 1, 0)\n",
        "\n",
        "#Renaming the column name for simplicity\n",
        "df = df.rename(columns={'Academics (1 – 5)':'Academics','Social (1 – 5)':'Social','Quality of Life (1 – 5)':'Quality'})\n",
        "\n",
        "#Scaling the data\n",
        "df['SAT verbal'] = (df['SAT verbal'] - 200)/600\n",
        "df['SAT math'] = (df['SAT math'] - 200)/600\n",
        "df['Academics'] = df['Academics'] - 1 /(5 - 1)\n",
        "df['Social'] = df['Social'] - 1/(5 - 1)\n",
        "df['Quality'] = df['Quality'] - 1/(5 - 1)\n",
        "\n",
        "# Rearranging the dataframe columns\n",
        "df=df[['SAT verbal','SAT math','Academics','Social','Quality', universityState[0], universityState[1], universityState[2], 'UniversityType']]\n"
      ],
      "metadata": {
        "id": "yDyKLqUdBp-h"
      },
      "execution_count": null,
      "outputs": []
    },
    {
      "cell_type": "code",
      "source": [
        "X = np.array(df)\n",
        "X_train = X[0:20,0:8]\n",
        "X_test = X[20:,0:8]\n",
        "Xc_train = X[0:20,8]\n",
        "Xc_test = X[20:,8]"
      ],
      "metadata": {
        "id": "PXknfyvlNuIs"
      },
      "execution_count": null,
      "outputs": []
    },
    {
      "cell_type": "code",
      "source": [
        "# Function to perform K nearest neighbor classification for single & multiple attributes\n",
        "def KNearestNeighbour(noOfAttributes):\n",
        "  list= [3,5,7]\n",
        "  for k in list:\n",
        "    manhattanDistance = np.zeros(X_test.shape[0])\n",
        "    if(noOfAttributes == 1):\n",
        "      classificationErrors = np.zeros(X_test.shape[0])\n",
        "    else:\n",
        "      classificationErrors = np.zeros((X_test.shape[0],2))\n",
        "    for i in range(X_test.shape[0]):\n",
        "        manhattanDistance = np.sum(np.abs(X_train - X_test[i,:]), axis = 1)\n",
        "        sortIndex = np.argsort(manhattanDistance)\n",
        "        if(noOfAttributes == 1):\n",
        "          bestLabels = Xc_train[sortIndex[0:k]]\n",
        "          prediction = (sum(bestLabels) > k/2.0)*1.0\n",
        "          classificationErrors[i] = (Xc_test[i] != prediction)*1.0\n",
        "        else:\n",
        "          bestLabels = Xc_train[sortIndex[0:k]]\n",
        "          bladderInflamationPrediction = (sum(bestLabels[:,0]) > k/2.0)*1.0\n",
        "          nephritisPrediction = (sum(bestLabels[:,1]) > k/2.0)*1.0\n",
        "          classificationErrors[i:,0] = (Xc_test[i:,0] != bladderInflamationPrediction)*1.0\n",
        "          classificationErrors[i:,1] = (Xc_test[i:,1] != nephritisPrediction)*1.0\n",
        "    if(noOfAttributes == 1):\n",
        "      print(f\"Number of errors in classification for K = {k} is\", np.sum(classificationErrors))\n",
        "    else:\n",
        "      print(f\"Number of errors in Bladder Inflamation classification for K = {k} is\", np.sum(classificationErrors[:,0]))\n",
        "      print(f\"Number of errors in Nephritis classification for K = {k} is\", np.sum(classificationErrors[:,1]))"
      ],
      "metadata": {
        "id": "3NmGIbJYkr9W"
      },
      "execution_count": null,
      "outputs": []
    },
    {
      "cell_type": "code",
      "source": [
        "KNearestNeighbour(1)"
      ],
      "metadata": {
        "id": "_Cyph2e9kmz0"
      },
      "execution_count": null,
      "outputs": []
    },
    {
      "cell_type": "markdown",
      "source": [
        "Question 2 Solution"
      ],
      "metadata": {
        "id": "vjYa9gtuOi_g"
      }
    },
    {
      "cell_type": "code",
      "source": [
        "# Function to perform unit scaling\n",
        "def unitScaling(column):\n",
        "    range = column.max() - column.min()\n",
        "    transformed_value = (column-column.min())/range\n",
        "    return transformed_value"
      ],
      "metadata": {
        "id": "eH68Kde3Ol4U"
      },
      "execution_count": null,
      "outputs": []
    },
    {
      "cell_type": "code",
      "source": [
        "df = pd.read_csv(io.BytesIO(filesUploaded['question2.csv']))\n",
        "\n",
        "# Renaming the column name for simplicity\n",
        "df = df.rename(columns={'Temperature of Patient ( ⁰C )':'Temperature'})\n",
        "\n",
        "# Performing unit scaling on the Temperature of Patient ( ⁰C ) column data\n",
        "df['Temperature'] = unitScaling(df['Temperature'])\n",
        "\n",
        "# Dropping the Patient Number column\n",
        "X = df.drop(['Patient Number'], axis=1)\n",
        "\n",
        "# Assigning value of 'yes' to 1 for the Binary data\n",
        "X = X.replace('yes', 1)\n",
        "\n",
        "# Assigning value of 'no' to 0 for the Binary data\n",
        "X = X.replace('no', 0)\n",
        "\n",
        "X = np.array(X)\n",
        "X_train = X[0:20,0:6]\n",
        "X_test = X[20:,0:6]\n",
        "Xc_train = X[0:20,6:]\n",
        "Xc_test = X[20:,6:]"
      ],
      "metadata": {
        "id": "oLk6zAf8Op22"
      },
      "execution_count": null,
      "outputs": []
    },
    {
      "cell_type": "code",
      "source": [
        "KNearestNeighbour(2)"
      ],
      "metadata": {
        "id": "LaOAopqjOwBL"
      },
      "execution_count": null,
      "outputs": []
    }
  ]
}